{
 "cells": [
  {
   "cell_type": "code",
   "execution_count": 15,
   "id": "082ebc9b",
   "metadata": {},
   "outputs": [],
   "source": [
    "import pandas as pd\n",
    "from ast import literal_eval\n",
    "import matplotlib.pyplot as plt\n",
    "import numpy as np"
   ]
  },
  {
   "cell_type": "code",
   "execution_count": 2,
   "id": "3842bd92",
   "metadata": {},
   "outputs": [
    {
     "data": {
      "text/html": [
       "<div>\n",
       "<style scoped>\n",
       "    .dataframe tbody tr th:only-of-type {\n",
       "        vertical-align: middle;\n",
       "    }\n",
       "\n",
       "    .dataframe tbody tr th {\n",
       "        vertical-align: top;\n",
       "    }\n",
       "\n",
       "    .dataframe thead th {\n",
       "        text-align: right;\n",
       "    }\n",
       "</style>\n",
       "<table border=\"1\" class=\"dataframe\">\n",
       "  <thead>\n",
       "    <tr style=\"text-align: right;\">\n",
       "      <th></th>\n",
       "      <th>Unnamed: 0</th>\n",
       "      <th>sn2_energies</th>\n",
       "      <th>e2_energies</th>\n",
       "    </tr>\n",
       "  </thead>\n",
       "  <tbody>\n",
       "    <tr>\n",
       "      <th>0</th>\n",
       "      <td>0</td>\n",
       "      <td>[1000000.0, 1000000.0, 1000000.0, 1000000.0, 1...</td>\n",
       "      <td>[1000000.0, 1000000.0, 1000000.0, 1000000.0, 1...</td>\n",
       "    </tr>\n",
       "    <tr>\n",
       "      <th>1</th>\n",
       "      <td>1</td>\n",
       "      <td>[-4.887686581057, -4.887697371201998, -4.90059...</td>\n",
       "      <td>[1000000.0, 1000000.0, 1000000.0, 1000000.0, 1...</td>\n",
       "    </tr>\n",
       "    <tr>\n",
       "      <th>2</th>\n",
       "      <td>2</td>\n",
       "      <td>[-1.5701661210359994, -1.6578887387380021, -1....</td>\n",
       "      <td>[1000000.0, 1000000.0, 1000000.0, 1000000.0, 1...</td>\n",
       "    </tr>\n",
       "    <tr>\n",
       "      <th>3</th>\n",
       "      <td>3</td>\n",
       "      <td>[-2.5483777921909976, -2.555338661956, -2.5656...</td>\n",
       "      <td>[1000000.0, 1000000.0, 1000000.0, 1000000.0, 1...</td>\n",
       "    </tr>\n",
       "    <tr>\n",
       "      <th>4</th>\n",
       "      <td>4</td>\n",
       "      <td>[-4.917740149233001, -4.9176914080189995, -4.9...</td>\n",
       "      <td>[1000000.0, 1000000.0, 1000000.0, 1000000.0, 1...</td>\n",
       "    </tr>\n",
       "    <tr>\n",
       "      <th>...</th>\n",
       "      <td>...</td>\n",
       "      <td>...</td>\n",
       "      <td>...</td>\n",
       "    </tr>\n",
       "    <tr>\n",
       "      <th>785</th>\n",
       "      <td>785</td>\n",
       "      <td>[-4.924528003808, -4.924576980380003, -4.92453...</td>\n",
       "      <td>[1000000.0, 1000000.0, 1000000.0, 1000000.0, 1...</td>\n",
       "    </tr>\n",
       "    <tr>\n",
       "      <th>786</th>\n",
       "      <td>786</td>\n",
       "      <td>[1000000.0, 1000000.0, 1000000.0, 1000000.0, 1...</td>\n",
       "      <td>[1000000.0, 1000000.0, 1000000.0, 1000000.0, 1...</td>\n",
       "    </tr>\n",
       "    <tr>\n",
       "      <th>787</th>\n",
       "      <td>787</td>\n",
       "      <td>[1000000.0, 1000000.0, 1000000.0, 1000000.0, 1...</td>\n",
       "      <td>[1000000.0, 1000000.0, 1000000.0, 1000000.0, 1...</td>\n",
       "    </tr>\n",
       "    <tr>\n",
       "      <th>788</th>\n",
       "      <td>788</td>\n",
       "      <td>[1000000.0, 1000000.0, 1000000.0, 1000000.0, 1...</td>\n",
       "      <td>[1000000.0, 1000000.0, 1000000.0, 1000000.0, 1...</td>\n",
       "    </tr>\n",
       "    <tr>\n",
       "      <th>789</th>\n",
       "      <td>789</td>\n",
       "      <td>[1000000.0, 1000000.0, 1000000.0, 1000000.0, 1...</td>\n",
       "      <td>[1000000.0, 1000000.0, 1000000.0, 1000000.0, 1...</td>\n",
       "    </tr>\n",
       "  </tbody>\n",
       "</table>\n",
       "<p>790 rows × 3 columns</p>\n",
       "</div>"
      ],
      "text/plain": [
       "     Unnamed: 0                                       sn2_energies  \\\n",
       "0             0  [1000000.0, 1000000.0, 1000000.0, 1000000.0, 1...   \n",
       "1             1  [-4.887686581057, -4.887697371201998, -4.90059...   \n",
       "2             2  [-1.5701661210359994, -1.6578887387380021, -1....   \n",
       "3             3  [-2.5483777921909976, -2.555338661956, -2.5656...   \n",
       "4             4  [-4.917740149233001, -4.9176914080189995, -4.9...   \n",
       "..          ...                                                ...   \n",
       "785         785  [-4.924528003808, -4.924576980380003, -4.92453...   \n",
       "786         786  [1000000.0, 1000000.0, 1000000.0, 1000000.0, 1...   \n",
       "787         787  [1000000.0, 1000000.0, 1000000.0, 1000000.0, 1...   \n",
       "788         788  [1000000.0, 1000000.0, 1000000.0, 1000000.0, 1...   \n",
       "789         789  [1000000.0, 1000000.0, 1000000.0, 1000000.0, 1...   \n",
       "\n",
       "                                           e2_energies  \n",
       "0    [1000000.0, 1000000.0, 1000000.0, 1000000.0, 1...  \n",
       "1    [1000000.0, 1000000.0, 1000000.0, 1000000.0, 1...  \n",
       "2    [1000000.0, 1000000.0, 1000000.0, 1000000.0, 1...  \n",
       "3    [1000000.0, 1000000.0, 1000000.0, 1000000.0, 1...  \n",
       "4    [1000000.0, 1000000.0, 1000000.0, 1000000.0, 1...  \n",
       "..                                                 ...  \n",
       "785  [1000000.0, 1000000.0, 1000000.0, 1000000.0, 1...  \n",
       "786  [1000000.0, 1000000.0, 1000000.0, 1000000.0, 1...  \n",
       "787  [1000000.0, 1000000.0, 1000000.0, 1000000.0, 1...  \n",
       "788  [1000000.0, 1000000.0, 1000000.0, 1000000.0, 1...  \n",
       "789  [1000000.0, 1000000.0, 1000000.0, 1000000.0, 1...  \n",
       "\n",
       "[790 rows x 3 columns]"
      ]
     },
     "execution_count": 2,
     "metadata": {},
     "output_type": "execute_result"
    }
   ],
   "source": [
    "df = pd.read_csv('test.csv')\n",
    "df"
   ]
  },
  {
   "cell_type": "code",
   "execution_count": 26,
   "id": "62cbd468",
   "metadata": {},
   "outputs": [
    {
     "name": "stdout",
     "output_type": "stream",
     "text": [
      "790 790\n"
     ]
    }
   ],
   "source": [
    "sn2_energies = [literal_eval(col) for col in df['sn2_energies'].values]\n",
    "e2_energies = [literal_eval(col) for col in df['e2_energies'].values]\n",
    "\n",
    "print(len(sn2_energies), len(e2_energies))"
   ]
  },
  {
   "cell_type": "code",
   "execution_count": 27,
   "id": "7b2513db",
   "metadata": {},
   "outputs": [
    {
     "name": "stdout",
     "output_type": "stream",
     "text": [
      "0 0\n"
     ]
    }
   ],
   "source": [
    "sn2_e = []\n",
    "e2_e = []\n",
    "\n",
    "for idx in range(len(sn2_energies)):\n",
    "    corr_sn2 = [val == 1e6 for val in sn2_energies[idx]]\n",
    "    corr_e2 = [val == 1e6 for val in e2_energies[idx]]\n",
    "    if False in corr_sn2 and False in corr_e2:\n",
    "        sn2_e.append(sn2_energies[idx])\n",
    "        e2_e.append(e2_energies[idx])\n",
    "        \n",
    "print(len(sn2_e), len(e2_e))"
   ]
  },
  {
   "cell_type": "code",
   "execution_count": 28,
   "id": "188d35d1",
   "metadata": {},
   "outputs": [],
   "source": [
    "sn2_e_low = [min(energies) for energies in sn2_e]\n",
    "e2_e_low = [min(energies) for energies in e2_e]\n",
    "\n",
    "sn2_e_avg = [np.mean(np.array(energies)) for energies in sn2_e]\n",
    "e2_e_avg = [np.mean(np.array(energies)) for energies in e2_e]"
   ]
  },
  {
   "cell_type": "code",
   "execution_count": 29,
   "id": "01eebacd",
   "metadata": {},
   "outputs": [
    {
     "data": {
      "text/plain": [
       "<matplotlib.legend.Legend at 0x7fae98b0d8b0>"
      ]
     },
     "execution_count": 29,
     "metadata": {},
     "output_type": "execute_result"
    },
    {
     "data": {
      "image/png": "[encoded data removed]",
      "text/plain": [
       "<Figure size 640x480 with 1 Axes>"
      ]
     },
     "metadata": {},
     "output_type": "display_data"
    }
   ],
   "source": [
    "plt.hist(sn2_e_avg, label='sn2_e_low')\n",
    "plt.legend()"
   ]
  },
  {
   "cell_type": "code",
   "execution_count": 30,
   "id": "fe7d345b",
   "metadata": {},
   "outputs": [
    {
     "data": {
      "text/plain": [
       "<matplotlib.legend.Legend at 0x7fae98c20be0>"
      ]
     },
     "execution_count": 30,
     "metadata": {},
     "output_type": "execute_result"
    },
    {
     "data": {
      "image/png": "[encoded data removed]",
      "text/plain": [
       "<Figure size 640x480 with 1 Axes>"
      ]
     },
     "metadata": {},
     "output_type": "display_data"
    }
   ],
   "source": [
    "plt.hist(e2_e_avg, label='e2_e_low')\n",
    "plt.legend()"
   ]
  },
  {
   "cell_type": "code",
   "execution_count": null,
   "id": "879d8166",
   "metadata": {},
   "outputs": [],
   "source": []
  }
 ],
 "metadata": {
  "kernelspec": {
   "display_name": "Python 3 (ipykernel)",
   "language": "python",
   "name": "python3"
  },
  "language_info": {
   "codemirror_mode": {
    "name": "ipython",
    "version": 3
   },
   "file_extension": ".py",
   "mimetype": "text/x-python",
   "name": "python",
   "nbconvert_exporter": "python",
   "pygments_lexer": "ipython3",
   "version": "3.8.16"
  }
 },
 "nbformat": 4,
 "nbformat_minor": 5
}

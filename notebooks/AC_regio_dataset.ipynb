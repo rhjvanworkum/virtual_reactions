{
 "cells": [
  {
   "cell_type": "code",
   "execution_count": 2,
   "id": "14514406",
   "metadata": {},
   "outputs": [],
   "source": [
    "import pandas as pd\n",
    "import os\n",
    "from rxnmapper import RXNMapper\n",
    "import numpy as np\n",
    "\n",
    "from rdkit import Chem\n",
    "from rdkit.Chem import AllChem"
   ]
  },
  {
   "cell_type": "code",
   "execution_count": 3,
   "id": "2c811bc1",
   "metadata": {},
   "outputs": [
    {
     "name": "stdout",
     "output_type": "stream",
     "text": [
      "35991\n"
     ]
    },
    {
     "data": {
      "text/plain": [
       "Index(['Reaction ID', 'Reaction: Links to Reaxys', 'Data Count',\n",
       "       'Number of Reaction Details', 'Reaction Rank', 'Record Type',\n",
       "       'Reactant', 'Product', 'Bin', 'Reaction',\n",
       "       'Reaction Details: Reaction Classification', 'Example label',\n",
       "       'Example title', 'Fulltext of reaction', 'Number of Reaction Steps',\n",
       "       'Multi-step Scheme', 'Multi-step Details', 'Number of Stages',\n",
       "       'Solid Phase', 'Time (Reaction Details) [h]',\n",
       "       'Temperature (Reaction Details) [C]',\n",
       "       'Pressure (Reaction Details) [Torr]', 'pH-Value (Reaction Details)',\n",
       "       'Other Conditions', 'Reaction Type', 'Subject Studied',\n",
       "       'Prototype Reaction', 'Named Reaction',\n",
       "       'Type of reaction description (Reaction Details)', 'Location',\n",
       "       'Comment (Reaction Details)', 'Product.1', 'Yield', 'Yield (numerical)',\n",
       "       'Yield (optical)', 'Stage Reactant', 'Reagent', 'Catalyst',\n",
       "       'Solvent (Reaction Details)', 'References', 'Links to Reaxys',\n",
       "       'Unnamed: 41'],\n",
       "      dtype='object')"
      ]
     },
     "execution_count": 3,
     "metadata": {},
     "output_type": "execute_result"
    }
   ],
   "source": [
    "path = '/home/ruard/Documents/datasets/AC_reaxys_export/'\n",
    "dfs = []\n",
    "for name in ['amide_coupling_DCM_1.tsv', 'amide_coupling_DCM_2.tsv', 'amide_coupling_DCM_3.tsv', 'amide_coupling_DCM_4.tsv', 'amide_coupling_DCM_5.tsv', 'amide_coupling_DCM_6.tsv']:\n",
    "    dfs.append(pd.read_csv(os.path.join(path, name), sep='\\t'))\n",
    "    \n",
    "df = pd.concat(dfs)\n",
    "print(len(df))\n",
    "\n",
    "df.columns"
   ]
  },
  {
   "cell_type": "code",
   "execution_count": 4,
   "id": "f83b36b1",
   "metadata": {},
   "outputs": [
    {
     "name": "stdout",
     "output_type": "stream",
     "text": [
      "35890\n",
      "28218\n"
     ]
    }
   ],
   "source": [
    "# no NaN reactions \n",
    "df = df[~df['Reaction'].isna()]\n",
    "print(len(df))\n",
    "\n",
    "# no duplicate reaction smiles\n",
    "df = df.drop_duplicates(subset=['Reaction'])\n",
    "print(len(df))"
   ]
  },
  {
   "cell_type": "code",
   "execution_count": 5,
   "id": "5deb2f17",
   "metadata": {},
   "outputs": [
    {
     "name": "stdout",
     "output_type": "stream",
     "text": [
      "1664\n"
     ]
    }
   ],
   "source": [
    "nitrogen_smarts_pattern = Chem.MolFromSmarts('[NH,NH2]')\n",
    "carboxyl_smarts_pattern = Chem.MolFromSmarts('[#6:1](=[O:2])[OH:3]')\n",
    "\n",
    "# only do bimolecular reactions for now - with either multiple COOH's or N's\n",
    "filtered_reaction_ids = []\n",
    "for reaction, reaction_id in zip(df['Reaction'].values, df['Reaction ID'].values):\n",
    "    reactants, products = reaction.split('>>')\n",
    "    if len(reactants.split('.')) == 2: \n",
    "        reactant1, reactant2 = reactants.split('.')\n",
    "        reactant1 = Chem.MolFromSmiles(reactant1)\n",
    "        reactant2 = Chem.MolFromSmiles(reactant2)\n",
    "        \n",
    "        if reactant1 is not None and reactant2 is not None:\n",
    "            n_matches_1 = reactant1.GetSubstructMatches(nitrogen_smarts_pattern)\n",
    "            acid_matches_1 = reactant1.GetSubstructMatches(carboxyl_smarts_pattern)\n",
    "            n_matches_2 = reactant2.GetSubstructMatches(nitrogen_smarts_pattern)\n",
    "            acid_matches_2 = reactant2.GetSubstructMatches(carboxyl_smarts_pattern)\n",
    "            \n",
    "            if (len(n_matches_1) >=2 and len(acid_matches_2) >= 1) or \\\n",
    "               (len(n_matches_1) >=1 and len(acid_matches_2) >= 2) or \\\n",
    "               (len(acid_matches_1) >=2 and len(n_matches_2) >= 1) or \\\n",
    "               (len(acid_matches_1) >=1 and len(n_matches_2) >= 2):\n",
    "                    filtered_reaction_ids.append(reaction_id)\n",
    "\n",
    "df = df[df['Reaction ID'].isin(filtered_reaction_ids)]\n",
    "print(len(df))"
   ]
  },
  {
   "cell_type": "code",
   "execution_count": 6,
   "id": "c5b58f29",
   "metadata": {},
   "outputs": [
    {
     "data": {
      "image/png": "[encoded data removed]",
      "text/plain": [
       "<rdkit.Chem.rdchem.Mol at 0x7fedbe6c7190>"
      ]
     },
     "execution_count": 6,
     "metadata": {},
     "output_type": "execute_result"
    }
   ],
   "source": [
    "Chem.MolFromSmiles(df['Reaction'].values[6].split('>>')[0])"
   ]
  },
  {
   "cell_type": "code",
   "execution_count": null,
   "id": "d76c9077",
   "metadata": {},
   "outputs": [],
   "source": []
  },
  {
   "cell_type": "code",
   "execution_count": 7,
   "id": "028dfad1",
   "metadata": {},
   "outputs": [
    {
     "name": "stdout",
     "output_type": "stream",
     "text": [
      "1650\n"
     ]
    }
   ],
   "source": [
    "# filter out reactions with same reactants but different outcomes\n",
    "df['reactants'] = [r.split('>>')[0] for r in df['Reaction']]\n",
    "\n",
    "filter_out_reaction_ids = []\n",
    "\n",
    "for val in df['reactants'].unique():\n",
    "    if len(df[df['reactants'] == val]) > 2:\n",
    "        for idx in df[df['reactants'] == val]['Reaction ID'].values:\n",
    "            filter_out_reaction_ids.append(idx)\n",
    "        \n",
    "df = df[~df['Reaction ID'].isin(filter_out_reaction_ids)]\n",
    "print(len(df))"
   ]
  },
  {
   "cell_type": "code",
   "execution_count": 8,
   "id": "f8e39d8f",
   "metadata": {},
   "outputs": [
    {
     "name": "stdout",
     "output_type": "stream",
     "text": [
      "1609\n"
     ]
    }
   ],
   "source": [
    "# see if there could be a regioselective thing\n",
    "reaction_smarts = AllChem.ReactionFromSmarts(\n",
    "    \"[N,n:1].[*:2][#6:3](=[O:4])[OH:5]>>[N,n:1][#6:3](=[O:4])-[*:2]\"\n",
    ")\n",
    "\n",
    "def simulate_reaction(substrates):\n",
    "    products = []\n",
    "    products += reaction_smarts.RunReactants(substrates)\n",
    "    substrates = [substrates[1], substrates[0]]\n",
    "    products += reaction_smarts.RunReactants(substrates)\n",
    "    \n",
    "    products = [Chem.MolToSmiles(product[0]) for product in products]\n",
    "    products = list(set(products))\n",
    "    products = [Chem.MolFromSmiles(product) for product in products]\n",
    "    return list(filter(lambda x: x is not None, products))\n",
    "\n",
    "filtered_reaction_ids = []\n",
    "idx = 0\n",
    "for reactants, reaction_id in zip(df['reactants'].values, df['Reaction ID'].values):\n",
    "    out = simulate_reaction([Chem.MolFromSmiles(smi) for smi in reactants.split('.')])\n",
    "    if len(out) >= 2:\n",
    "        filtered_reaction_ids.append(reaction_id)\n",
    "        \n",
    "df = df[df['Reaction ID'].isin(filtered_reaction_ids)]\n",
    "print(len(df))"
   ]
  },
  {
   "cell_type": "code",
   "execution_count": 9,
   "id": "abe81fbc",
   "metadata": {},
   "outputs": [
    {
     "name": "stdout",
     "output_type": "stream",
     "text": [
      "3648 1511\n"
     ]
    }
   ],
   "source": [
    "# now make DataFrame with all reactions\n",
    "\n",
    "def normalize_mol(mol):\n",
    "    return Chem.MolFromSmiles(Chem.MolToSmiles(mol, isomericSmiles=False))\n",
    "\n",
    "reaction_idx = []\n",
    "substrates = []\n",
    "products = []\n",
    "solvents = []\n",
    "reaction_smiles_list = []\n",
    "labels = []\n",
    "\n",
    "for idx, reaction_smiles in enumerate(df['Reaction'].values):\n",
    "    reactants, product = reaction_smiles.split('>>')\n",
    "    reactant1_smiles, reactant2_smiles = reactants.split('.')\n",
    "    \n",
    "    reactant1 = Chem.MolFromSmiles(reactant1_smiles)\n",
    "    reactant2 = Chem.MolFromSmiles(reactant2_smiles)\n",
    "    product = Chem.MolFromSmiles(product)\n",
    "    reactants = [reactant1, reactant2]\n",
    "    output = simulate_reaction(reactants)\n",
    "    \n",
    "    product_smiles = Chem.MolToSmiles(normalize_mol(product), isomericSmiles=False)\n",
    "    output = [Chem.MolToSmiles(normalize_mol(mol), isomericSmiles=False) for mol in output]\n",
    "    output = list(set(output))\n",
    "    \n",
    "    if len(output) >= 2 and (product_smiles in output):\n",
    "        for mol in output:\n",
    "            reaction_smiles = f\"{reactant1_smiles}.{reactant2_smiles}>>{mol}\"\n",
    "            substrates.append(f\"{reactant1_smiles}.{reactant2_smiles}\")\n",
    "            products.append(mol)\n",
    "            solvents.append(\"CH2Cl2\")\n",
    "            reaction_smiles_list.append(reaction_smiles)\n",
    "            reaction_idx.append(idx)\n",
    "            if mol == product_smiles:\n",
    "                labels.append(1)\n",
    "            else:\n",
    "                labels.append(0)   \n",
    "    \n",
    "print(len(reaction_idx), len(set(reaction_idx)))    \n",
    "    \n",
    "df = pd.DataFrame({\n",
    "    'reaction_idx': reaction_idx,\n",
    "    'uid': np.arange(len(reaction_idx)),\n",
    "    'substrates': substrates,\n",
    "    'products': products,\n",
    "    'solvent': solvents,\n",
    "    'reaction_smiles': reaction_smiles_list,\n",
    "    'label': labels,\n",
    "    'simulation_idx': np.zeros(len(reaction_idx))\n",
    "})    \n",
    "    \n",
    "df.to_csv('/home/ruard/code/virtual_reactions/data/datasets/ac/ac_dataset_dcm.csv')"
   ]
  },
  {
   "cell_type": "code",
   "execution_count": null,
   "id": "83e774bf",
   "metadata": {},
   "outputs": [],
   "source": []
  }
 ],
 "metadata": {
  "kernelspec": {
   "display_name": "Python 3 (ipykernel)",
   "language": "python",
   "name": "python3"
  },
  "language_info": {
   "codemirror_mode": {
    "name": "ipython",
    "version": 3
   },
   "file_extension": ".py",
   "mimetype": "text/x-python",
   "name": "python",
   "nbconvert_exporter": "python",
   "pygments_lexer": "ipython3",
   "version": "3.8.16"
  }
 },
 "nbformat": 4,
 "nbformat_minor": 5
}

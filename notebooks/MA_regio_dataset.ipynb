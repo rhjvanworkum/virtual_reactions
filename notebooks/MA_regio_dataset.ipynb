{
 "cells": [
  {
   "cell_type": "code",
   "execution_count": 3,
   "id": "14514406",
   "metadata": {},
   "outputs": [],
   "source": [
    "import pandas as pd\n",
    "import os\n",
    "from rxnmapper import RXNMapper\n",
    "import numpy as np\n",
    "\n",
    "from rdkit import Chem\n",
    "from rdkit.Chem import AllChem"
   ]
  },
  {
   "cell_type": "code",
   "execution_count": 59,
   "id": "2c811bc1",
   "metadata": {},
   "outputs": [
    {
     "name": "stdout",
     "output_type": "stream",
     "text": [
      "33452\n"
     ]
    },
    {
     "data": {
      "text/plain": [
       "Index(['Reaction ID', 'Reaction: Links to Reaxys', 'Data Count',\n",
       "       'Number of Reaction Details', 'Reaction Rank', 'Record Type',\n",
       "       'Reactant', 'Product', 'Bin', 'Reaction',\n",
       "       'Reaction Details: Reaction Classification', 'Example label',\n",
       "       'Example title', 'Fulltext of reaction', 'Number of Reaction Steps',\n",
       "       'Multi-step Scheme', 'Multi-step Details', 'Number of Stages',\n",
       "       'Solid Phase', 'Time (Reaction Details) [h]',\n",
       "       'Temperature (Reaction Details) [C]',\n",
       "       'Pressure (Reaction Details) [Torr]', 'pH-Value (Reaction Details)',\n",
       "       'Other Conditions', 'Reaction Type', 'Subject Studied',\n",
       "       'Prototype Reaction', 'Named Reaction',\n",
       "       'Type of reaction description (Reaction Details)', 'Location',\n",
       "       'Comment (Reaction Details)', 'Product.1', 'Yield', 'Yield (numerical)',\n",
       "       'Yield (optical)', 'Stage Reactant', 'Reagent', 'Catalyst',\n",
       "       'Solvent (Reaction Details)', 'References', 'Links to Reaxys',\n",
       "       'Unnamed: 41'],\n",
       "      dtype='object')"
      ]
     },
     "execution_count": 59,
     "metadata": {},
     "output_type": "execute_result"
    }
   ],
   "source": [
    "path = '/home/ruard/Documents/datasets/MA_reaxys_export/'\n",
    "dfs = []\n",
    "for name in ['MA_1.tsv', 'MA_2.tsv', 'MA_3.tsv', 'MA_4.tsv', 'MA_5.tsv']:\n",
    "    dfs.append(pd.read_csv(os.path.join(path, name), sep='\\t'))\n",
    "    \n",
    "df = pd.concat(dfs)\n",
    "print(len(df))\n",
    "\n",
    "df.columns"
   ]
  },
  {
   "cell_type": "code",
   "execution_count": 60,
   "id": "f83b36b1",
   "metadata": {},
   "outputs": [
    {
     "name": "stdout",
     "output_type": "stream",
     "text": [
      "33446\n",
      "33317\n",
      "20002\n"
     ]
    }
   ],
   "source": [
    "# no multistep reactions\n",
    "df = df[df['Multi-step Details'].isnull()]\n",
    "print(len(df))\n",
    "\n",
    "# no NaN reactions \n",
    "df = df[~df['Reaction'].isna()]\n",
    "print(len(df))\n",
    "\n",
    "# no duplicate reaction smiles\n",
    "df = df.drop_duplicates(subset=['Reaction'])\n",
    "print(len(df))"
   ]
  },
  {
   "cell_type": "code",
   "execution_count": 61,
   "id": "5deb2f17",
   "metadata": {},
   "outputs": [
    {
     "name": "stdout",
     "output_type": "stream",
     "text": [
      "1210\n"
     ]
    }
   ],
   "source": [
    "# filter reactions with multiple unsaturated carbons\n",
    "SMARTS = Chem.MolFromSmarts('[#6:1]=[#6:2][#6:3](=[O:4])') # C=CC(=O)C\n",
    "\n",
    "filtered_reaction_ids = []\n",
    "for reaction, reaction_id in zip(df['Reaction'].values, df['Reaction ID'].values):\n",
    "    reactants, products = reaction.split('>>')\n",
    "    if len(reactants.split('.')) == 2 and len(products.split('.')) == 1: \n",
    "        reactant1, reactant2 = reactants.split('.')\n",
    "        reactant1 = Chem.MolFromSmiles(reactant1)\n",
    "        reactant2 = Chem.MolFromSmiles(reactant2)\n",
    "        \n",
    "        if reactant1 is not None and reactant2 is not None:\n",
    "            if len(reactant1.GetSubstructMatches(SMARTS)) >= 2 or len(reactant2.GetSubstructMatches(SMARTS)) >= 2:\n",
    "                filtered_reaction_ids.append(reaction_id)\n",
    "\n",
    "df = df[df['Reaction ID'].isin(filtered_reaction_ids)]\n",
    "print(len(df))"
   ]
  },
  {
   "cell_type": "code",
   "execution_count": 62,
   "id": "6138c90c",
   "metadata": {},
   "outputs": [
    {
     "name": "stdout",
     "output_type": "stream",
     "text": [
      "413\n"
     ]
    }
   ],
   "source": [
    "# see if there could be a regioselective thing\n",
    "reaction_smarts = AllChem.ReactionFromSmarts(\n",
    "    \"[#6:1]=[#6:2][#6:3](=[O:4]).[N,S,n,s:5]>>[N,S,n,s:5][#6:1]-[#6:2][#6:3](=[O:4])\"\n",
    ")\n",
    "\n",
    "def simulate_reaction(substrates):\n",
    "    products = []\n",
    "    products += reaction_smarts.RunReactants(substrates)\n",
    "    substrates = [substrates[1], substrates[0]]\n",
    "    products += reaction_smarts.RunReactants(substrates)\n",
    "    \n",
    "    products = [Chem.MolToSmiles(product[0]) for product in products]\n",
    "    products = list(set(products))\n",
    "    products = [Chem.MolFromSmiles(product) for product in products]\n",
    "    return list(filter(lambda x: x is not None, products))\n",
    "\n",
    "filtered_reaction_ids = []\n",
    "idx = 0\n",
    "for reaction, reaction_id in zip(df['Reaction'].values, df['Reaction ID'].values):\n",
    "    reactants, products = reaction.split('>>')\n",
    "    reactant1, reactant2 = reactants.split('.')\n",
    "    reactant1 = Chem.MolFromSmiles(reactant1)\n",
    "    reactant2 = Chem.MolFromSmiles(reactant2)\n",
    "\n",
    "    out = simulate_reaction([reactant1, reactant2])\n",
    "    if len(out) >= 2:\n",
    "        filtered_reaction_ids.append(reaction_id)\n",
    "        \n",
    "df = df[df['Reaction ID'].isin(filtered_reaction_ids)]\n",
    "print(len(df))"
   ]
  },
  {
   "cell_type": "code",
   "execution_count": 63,
   "id": "e0624f67",
   "metadata": {},
   "outputs": [
    {
     "name": "stdout",
     "output_type": "stream",
     "text": [
      "382\n"
     ]
    }
   ],
   "source": [
    "# filter out reaction where product has 30+ heavy atoms\n",
    "filtered_reaction_ids = []\n",
    "idx = 0\n",
    "for reaction, reaction_id in zip(df['Reaction'].values, df['Reaction ID'].values):\n",
    "    reactants, products = reaction.split('>>')\n",
    "    product = Chem.MolFromSmiles(products)\n",
    "    if product.GetNumHeavyAtoms() < 50:\n",
    "        filtered_reaction_ids.append(reaction_id)\n",
    "    \n",
    "df = df[df['Reaction ID'].isin(filtered_reaction_ids)]\n",
    "print(len(df))"
   ]
  },
  {
   "cell_type": "code",
   "execution_count": 64,
   "id": "07cd448c",
   "metadata": {},
   "outputs": [
    {
     "name": "stdout",
     "output_type": "stream",
     "text": [
      "826 362\n"
     ]
    }
   ],
   "source": [
    "def normalize_mol(mol):\n",
    "    return Chem.MolFromSmiles(Chem.MolToSmiles(mol, isomericSmiles=False))\n",
    "\n",
    "\n",
    "reaction_idx = []\n",
    "substrates = []\n",
    "products = []\n",
    "# solvents = []\n",
    "reaction_smiles_list = []\n",
    "labels = []\n",
    "\n",
    "for idx, reaction_smiles in enumerate(df['Reaction'].values):\n",
    "    reactants, product = reaction_smiles.split('>>')\n",
    "    reactant1_smiles, reactant2_smiles = reactants.split('.')\n",
    "    \n",
    "    reactant1 = Chem.MolFromSmiles(reactant1_smiles)\n",
    "    reactant2 = Chem.MolFromSmiles(reactant2_smiles)\n",
    "    product = Chem.MolFromSmiles(product)\n",
    "    reactants = [reactant1, reactant2]\n",
    "    output = simulate_reaction(reactants)\n",
    "    \n",
    "    product_smiles = Chem.MolToSmiles(normalize_mol(product), isomericSmiles=False)\n",
    "    output = [Chem.MolToSmiles(normalize_mol(mol), isomericSmiles=False) for mol in output]\n",
    "    output = list(set(output))\n",
    "    \n",
    "    if len(output) >= 2 and product_smiles in output:\n",
    "        for mol in output:\n",
    "            reaction_smiles = f\"{reactant1_smiles}.{reactant2_smiles}>>{mol}\"\n",
    "            substrates.append(f\"{reactant1_smiles}.{reactant2_smiles}\")\n",
    "            products.append(mol)\n",
    "#             solvents.append(get_xtb_solvent(get_solvent(regio_reaction)))\n",
    "            reaction_smiles_list.append(reaction_smiles)\n",
    "            reaction_idx.append(idx)\n",
    "            if mol == product_smiles:\n",
    "                labels.append(1)\n",
    "            else:\n",
    "                labels.append(0)   \n",
    "    \n",
    "print(len(reaction_idx), len(set(reaction_idx)))    \n",
    "    \n",
    "df = pd.DataFrame({\n",
    "    'reaction_idx': reaction_idx,\n",
    "    'uid': np.arange(len(reaction_idx)),\n",
    "    'substrates': substrates,\n",
    "    'products': products,\n",
    "#     'solvent': solvents,\n",
    "    'reaction_smiles': reaction_smiles_list,\n",
    "    'label': labels,\n",
    "    'simulation_idx': np.zeros(len(reaction_idx))\n",
    "})    \n",
    "    \n",
    "df.to_csv('/home/ruard/code/virtual_reactions/data/datasets/ma/ma_dataset.csv')"
   ]
  },
  {
   "cell_type": "code",
   "execution_count": null,
   "id": "72780171",
   "metadata": {},
   "outputs": [],
   "source": []
  },
  {
   "cell_type": "code",
   "execution_count": 1,
   "id": "ee53433c",
   "metadata": {},
   "outputs": [],
   "source": [
    "import pandas as pd\n",
    "import os\n",
    "from rxnmapper import RXNMapper\n",
    "import numpy as np\n",
    "\n",
    "from rdkit import Chem\n",
    "from rdkit.Chem import AllChem\n",
    "\n",
    "from src.reactions.ma.ma_reaction import MAReaction\n",
    "from src.methods.methods import XtbMethod"
   ]
  },
  {
   "cell_type": "code",
   "execution_count": 2,
   "id": "f695a5e1",
   "metadata": {},
   "outputs": [],
   "source": [
    "df = pd.read_csv('/home/ruard/code/virtual_reactions/data/datasets/ma/ma_dataset.csv')\n",
    "\n",
    "reaction = MAReaction(\n",
    "    substrate_smiles=df['substrates'].values[0],\n",
    "    product_smiles=df['products'].values[0],\n",
    "    solvent=None,\n",
    "    method=XtbMethod(),\n",
    "    has_openmm_compatability=False,\n",
    "    compute_product_only=False\n",
    ")\n",
    "\n",
    "out = reaction._get_transition_state()"
   ]
  },
  {
   "cell_type": "code",
   "execution_count": null,
   "id": "ac56eb61",
   "metadata": {},
   "outputs": [],
   "source": [
    "energies = reaction.compute_conformer_energies()\n",
    "energies"
   ]
  },
  {
   "cell_type": "code",
   "execution_count": null,
   "id": "0f155fe9",
   "metadata": {},
   "outputs": [],
   "source": []
  }
 ],
 "metadata": {
  "kernelspec": {
   "display_name": "Python 3 (ipykernel)",
   "language": "python",
   "name": "python3"
  },
  "language_info": {
   "codemirror_mode": {
    "name": "ipython",
    "version": 3
   },
   "file_extension": ".py",
   "mimetype": "text/x-python",
   "name": "python",
   "nbconvert_exporter": "python",
   "pygments_lexer": "ipython3",
   "version": "3.8.16"
  }
 },
 "nbformat": 4,
 "nbformat_minor": 5
}

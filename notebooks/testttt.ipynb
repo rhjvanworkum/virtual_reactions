{
 "cells": [
  {
   "cell_type": "code",
   "execution_count": 12,
   "id": "2d4f3647",
   "metadata": {},
   "outputs": [],
   "source": [
    "import pandas as pd\n",
    "from rxnmapper import RXNMapper\n",
    "from rdkit import Chem\n",
    "from rdkit.Chem import Draw\n",
    "from rdkit.Chem import AllChem\n",
    "import networkx as nx"
   ]
  },
  {
   "cell_type": "code",
   "execution_count": 24,
   "id": "9a97b20c",
   "metadata": {},
   "outputs": [
    {
     "name": "stderr",
     "output_type": "stream",
     "text": [
      "Some weights of the model checkpoint at /home/ruard/anaconda3/envs/ts/lib/python3.8/site-packages/rxnmapper/models/transformers/albert_heads_8_uspto_all_1310k were not used when initializing AlbertModel: ['predictions.decoder.bias', 'predictions.LayerNorm.weight', 'predictions.decoder.weight', 'predictions.dense.weight', 'predictions.dense.bias', 'predictions.LayerNorm.bias', 'predictions.bias']\n",
      "- This IS expected if you are initializing AlbertModel from the checkpoint of a model trained on another task or with another architecture (e.g. initializing a BertForSequenceClassification model from a BertForPreTraining model).\n",
      "- This IS NOT expected if you are initializing AlbertModel from the checkpoint of a model that you expect to be exactly identical (initializing a BertForSequenceClassification model from a BertForSequenceClassification model).\n"
     ]
    }
   ],
   "source": [
    "rxn_mapper = RXNMapper()\n",
    "\n",
    "da_rxn_smarts = AllChem.ReactionFromSmarts(\n",
    "    '[#6:1]=[#6:2].[#6:3]=[#6:4][#6:5]=[#6:6]>>[#6:1]1[#6:2][#6:3][#6:4]=[#6:5][#6:6]1'\n",
    ")\n",
    "\n",
    "def mol_to_nx(mol):\n",
    "    G = nx.Graph()\n",
    "\n",
    "    for atom in mol.GetAtoms():\n",
    "        G.add_node(atom.GetIdx(),\n",
    "                   atomic_num=atom.GetAtomicNum(),\n",
    "                   is_aromatic=atom.GetIsAromatic(),\n",
    "                   atom_symbol=atom.GetSymbol())\n",
    "        \n",
    "    for bond in mol.GetBonds():\n",
    "        G.add_edge(bond.GetBeginAtomIdx(),\n",
    "                   bond.GetEndAtomIdx(),\n",
    "                   bond_type=bond.GetBondType())\n",
    "        \n",
    "    return G\n",
    "\n",
    "def get_active_bonds(reactants, products):\n",
    "    edges1 = reactants.edges()\n",
    "    edges2 = products.edges()\n",
    "    active_edges = list(set(edges1) - set(edges2))\n",
    "    print([()])\n",
    "\n",
    "def test(reaction_smiles):\n",
    "    reaction_smiles = rxn_mapper.get_attention_guided_atom_maps([reaction_smiles])[0]['mapped_rxn']\n",
    "    reactants, products = reaction_smiles.split('>>')\n",
    "    reactants, products = Chem.MolFromSmarts(reactants), Chem.MolFromSmarts(products)\n",
    "    reactants_graph, products_graph = mol_to_nx(reactants), mol_to_nx(products)\n",
    "    print(reactants, products)\n",
    "    get_active_bonds(reactants_graph, products_graph)\n",
    "    \n",
    "    return reaction_smiles\n",
    "#     rxn = Chem.rdChemReactions.ReactionFromSmarts(reaction_smiles, useSmiles=False)\n",
    "#     rxn.Initialize()\n",
    "    \n",
    "#     product_mol = Chem.MolFromSmiles(reaction_smiles.split('>>')[1])\n",
    "    \n",
    "#     reacting_atoms = rxn.GetReactingAtoms()\n",
    "#     if len(reacting_atoms[0]) == 2 and len(reacting_atoms[1]) == 4:\n",
    "#         reactants = reaction_smiles.split('>>')[0].split('.')\n",
    "#         dienophile_smiles, dienophile_idxs = reactants[0], reacting_atoms[0]\n",
    "#         diene_smiles, diene_idxs = reactants[1], reacting_atoms[1]\n",
    "#     elif len(reacting_atoms[0]) ==4 and len(reacting_atoms[1]) == 2:\n",
    "#         reactants = reaction_smiles.split('>>')[0].split('.')\n",
    "#         dienophile_smiles, dienophile_idxs = reactants[1], reacting_atoms[1]\n",
    "#         diene_smiles, diene_idxs = reactants[0], reacting_atoms[0]\n",
    "#     else:\n",
    "#         print(\"couldnt extract diene + dienophile\", reacting_atoms)\n",
    "#         return []"
   ]
  },
  {
   "cell_type": "code",
   "execution_count": 25,
   "id": "7e9a9ff8",
   "metadata": {},
   "outputs": [
    {
     "name": "stdout",
     "output_type": "stream",
     "text": [
      "<rdkit.Chem.rdchem.Mol object at 0x7fb0f594cdd0> <rdkit.Chem.rdchem.Mol object at 0x7fb0f594c270>\n",
      "[(2, 4), (10, 11), (8, 10)]\n"
     ]
    },
    {
     "data": {
      "text/plain": [
       "'[CH2:8]=[CH:9][C:10](=[CH2:11])[CH3:12].[CH3:1][CH2:2][O:3][C:4](=[O:5])[CH:6]=[CH2:7]>>[CH3:1][CH2:2][O:3][C:4](=[O:5])[CH:6]1[CH2:7][CH2:8][CH:9]=[C:10]([CH3:11])[CH2:12]1'"
      ]
     },
     "execution_count": 25,
     "metadata": {},
     "output_type": "execute_result"
    }
   ],
   "source": [
    "rxn = 'C=CC(=O)OCC.C=CC(=C)C>>CCOC(=O)C1CCC=C(C)C1'\n",
    "smiles = test(rxn)\n",
    "smiles"
   ]
  },
  {
   "cell_type": "code",
   "execution_count": 26,
   "id": "17f041aa",
   "metadata": {},
   "outputs": [
    {
     "data": {
      "image/png": "[encoded data removed]",
      "text/plain": [
       "<rdkit.Chem.rdchem.Mol at 0x7fb0f594cd60>"
      ]
     },
     "execution_count": 26,
     "metadata": {},
     "output_type": "execute_result"
    }
   ],
   "source": [
    "Chem.MolFromSmiles(smiles.split('>>')[0])"
   ]
  },
  {
   "cell_type": "code",
   "execution_count": 27,
   "id": "8092c985",
   "metadata": {},
   "outputs": [
    {
     "data": {
      "image/png": "[encoded data removed]",
      "text/plain": [
       "<rdkit.Chem.rdchem.Mol at 0x7fb0f594c970>"
      ]
     },
     "execution_count": 27,
     "metadata": {},
     "output_type": "execute_result"
    }
   ],
   "source": [
    "Chem.MolFromSmiles(smiles.split('>>')[1])"
   ]
  },
  {
   "cell_type": "code",
   "execution_count": null,
   "id": "f060814a",
   "metadata": {},
   "outputs": [],
   "source": []
  }
 ],
 "metadata": {
  "kernelspec": {
   "display_name": "Python 3 (ipykernel)",
   "language": "python",
   "name": "python3"
  },
  "language_info": {
   "codemirror_mode": {
    "name": "ipython",
    "version": 3
   },
   "file_extension": ".py",
   "mimetype": "text/x-python",
   "name": "python",
   "nbconvert_exporter": "python",
   "pygments_lexer": "ipython3",
   "version": "3.8.16"
  }
 },
 "nbformat": 4,
 "nbformat_minor": 5
}

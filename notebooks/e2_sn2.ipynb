{
 "cells": [
  {
   "cell_type": "code",
   "execution_count": 45,
   "id": "14245777",
   "metadata": {},
   "outputs": [
    {
     "data": {
      "text/html": [
       "<div>\n",
       "<style scoped>\n",
       "    .dataframe tbody tr th:only-of-type {\n",
       "        vertical-align: middle;\n",
       "    }\n",
       "\n",
       "    .dataframe tbody tr th {\n",
       "        vertical-align: top;\n",
       "    }\n",
       "\n",
       "    .dataframe thead th {\n",
       "        text-align: right;\n",
       "    }\n",
       "</style>\n",
       "<table border=\"1\" class=\"dataframe\">\n",
       "  <thead>\n",
       "    <tr style=\"text-align: right;\">\n",
       "      <th></th>\n",
       "      <th>Unnamed: 0</th>\n",
       "      <th>smiles</th>\n",
       "      <th>label</th>\n",
       "      <th>sn2_states</th>\n",
       "      <th>e2_states</th>\n",
       "    </tr>\n",
       "  </thead>\n",
       "  <tbody>\n",
       "    <tr>\n",
       "      <th>0</th>\n",
       "      <td>0</td>\n",
       "      <td>[N:1]#[C:2][C@@H:3]([NH2:4])[CH2:5][Br:6].[H-:7]</td>\n",
       "      <td>sn2</td>\n",
       "      <td>[[Energy(0.01092 Ha), 0, 'No imaginary frequen...</td>\n",
       "      <td>[[0, 0, 'no rc made']]</td>\n",
       "    </tr>\n",
       "    <tr>\n",
       "      <th>1</th>\n",
       "      <td>1</td>\n",
       "      <td>[CH3:1][C@@H:2]([NH2:3])[CH2:4][Cl:5].[F-:6]</td>\n",
       "      <td>sn2</td>\n",
       "      <td>[[Energy(0.0179 Ha), Frequency(-133.40845 cm^-...</td>\n",
       "      <td>[[Energy(0.00246 Ha), Frequency(-46.53485 cm^-...</td>\n",
       "    </tr>\n",
       "    <tr>\n",
       "      <th>2</th>\n",
       "      <td>2</td>\n",
       "      <td>[CH3:1][C@@H:2]([NH2:3])[CH2:4][Br:5].[Br-:6]</td>\n",
       "      <td>e2</td>\n",
       "      <td>[[Energy(0.00694 Ha), Frequency(-53.80338 cm^-...</td>\n",
       "      <td>[[0, 0, 'no rc made']]</td>\n",
       "    </tr>\n",
       "    <tr>\n",
       "      <th>3</th>\n",
       "      <td>3</td>\n",
       "      <td>[CH3:1][CH2:2][C@H:3]([Br:4])[C:5]#[N:6].[Cl-:7]</td>\n",
       "      <td>e2</td>\n",
       "      <td>[[Energy(0.02081 Ha), 0, 'Hessian calc failed'...</td>\n",
       "      <td>[[Energy(0.005 Ha), Frequency(-38.42143 cm^-1)...</td>\n",
       "    </tr>\n",
       "    <tr>\n",
       "      <th>4</th>\n",
       "      <td>4</td>\n",
       "      <td>[CH3:1][C@@:2]([Cl:3])([C:4]#[N:5])[N+:6](=[O:...</td>\n",
       "      <td>sn2</td>\n",
       "      <td>[[Energy(0.01899 Ha), Frequency(-110.48387 cm^...</td>\n",
       "      <td>[[Energy(0.00444 Ha), Frequency(-63.1352 cm^-1...</td>\n",
       "    </tr>\n",
       "    <tr>\n",
       "      <th>...</th>\n",
       "      <td>...</td>\n",
       "      <td>...</td>\n",
       "      <td>...</td>\n",
       "      <td>...</td>\n",
       "      <td>...</td>\n",
       "    </tr>\n",
       "    <tr>\n",
       "      <th>785</th>\n",
       "      <td>785</td>\n",
       "      <td>[CH3:1][C@@H:2]([C:3]#[N:4])[C@:5]([CH3:6])([N...</td>\n",
       "      <td>sn2</td>\n",
       "      <td>[[Energy(0.06131 Ha), Frequency(-189.69135 cm^...</td>\n",
       "      <td>[[Energy(0.00032 Ha), 0, 'No imaginary frequen...</td>\n",
       "    </tr>\n",
       "    <tr>\n",
       "      <th>786</th>\n",
       "      <td>786</td>\n",
       "      <td>[N:1]#[C:2][CH2:3][C:4]([NH2:5])([NH2:6])[F:7]...</td>\n",
       "      <td>sn2</td>\n",
       "      <td>[[Energy(0.00296 Ha), Frequency(-291.50045 cm^...</td>\n",
       "      <td>[[Energy(0.00095 Ha), Frequency(-90.79349 cm^-...</td>\n",
       "    </tr>\n",
       "    <tr>\n",
       "      <th>787</th>\n",
       "      <td>787</td>\n",
       "      <td>[N:1]#[C:2][CH2:3][C:4]([NH2:5])([NH2:6])[Cl:7...</td>\n",
       "      <td>sn2</td>\n",
       "      <td>[[Energy(0.00073 Ha), Frequency(-56.55091 cm^-...</td>\n",
       "      <td>[[Energy(0.00145 Ha), Frequency(-177.3576 cm^-...</td>\n",
       "    </tr>\n",
       "    <tr>\n",
       "      <th>788</th>\n",
       "      <td>788</td>\n",
       "      <td>[CH3:1][C@@H:2]([C:3]#[N:4])[C:5]([NH2:6])([NH...</td>\n",
       "      <td>sn2</td>\n",
       "      <td>[[Energy(0.01251 Ha), 0, 'No imaginary frequen...</td>\n",
       "      <td>[[Energy(0.00195 Ha), Frequency(-197.02701 cm^...</td>\n",
       "    </tr>\n",
       "    <tr>\n",
       "      <th>789</th>\n",
       "      <td>789</td>\n",
       "      <td>[CH3:1][CH:2]([CH3:3])[C:4]([NH2:5])([NH2:6])[...</td>\n",
       "      <td>sn2</td>\n",
       "      <td>[[Energy(0.00268 Ha), Frequency(-271.8405 cm^-...</td>\n",
       "      <td>[[Energy(0.00035 Ha), Frequency(-82.97289 cm^-...</td>\n",
       "    </tr>\n",
       "  </tbody>\n",
       "</table>\n",
       "<p>790 rows × 5 columns</p>\n",
       "</div>"
      ],
      "text/plain": [
       "     Unnamed: 0                                             smiles label  \\\n",
       "0             0   [N:1]#[C:2][C@@H:3]([NH2:4])[CH2:5][Br:6].[H-:7]   sn2   \n",
       "1             1       [CH3:1][C@@H:2]([NH2:3])[CH2:4][Cl:5].[F-:6]   sn2   \n",
       "2             2      [CH3:1][C@@H:2]([NH2:3])[CH2:4][Br:5].[Br-:6]    e2   \n",
       "3             3   [CH3:1][CH2:2][C@H:3]([Br:4])[C:5]#[N:6].[Cl-:7]    e2   \n",
       "4             4  [CH3:1][C@@:2]([Cl:3])([C:4]#[N:5])[N+:6](=[O:...   sn2   \n",
       "..          ...                                                ...   ...   \n",
       "785         785  [CH3:1][C@@H:2]([C:3]#[N:4])[C@:5]([CH3:6])([N...   sn2   \n",
       "786         786  [N:1]#[C:2][CH2:3][C:4]([NH2:5])([NH2:6])[F:7]...   sn2   \n",
       "787         787  [N:1]#[C:2][CH2:3][C:4]([NH2:5])([NH2:6])[Cl:7...   sn2   \n",
       "788         788  [CH3:1][C@@H:2]([C:3]#[N:4])[C:5]([NH2:6])([NH...   sn2   \n",
       "789         789  [CH3:1][CH:2]([CH3:3])[C:4]([NH2:5])([NH2:6])[...   sn2   \n",
       "\n",
       "                                            sn2_states  \\\n",
       "0    [[Energy(0.01092 Ha), 0, 'No imaginary frequen...   \n",
       "1    [[Energy(0.0179 Ha), Frequency(-133.40845 cm^-...   \n",
       "2    [[Energy(0.00694 Ha), Frequency(-53.80338 cm^-...   \n",
       "3    [[Energy(0.02081 Ha), 0, 'Hessian calc failed'...   \n",
       "4    [[Energy(0.01899 Ha), Frequency(-110.48387 cm^...   \n",
       "..                                                 ...   \n",
       "785  [[Energy(0.06131 Ha), Frequency(-189.69135 cm^...   \n",
       "786  [[Energy(0.00296 Ha), Frequency(-291.50045 cm^...   \n",
       "787  [[Energy(0.00073 Ha), Frequency(-56.55091 cm^-...   \n",
       "788  [[Energy(0.01251 Ha), 0, 'No imaginary frequen...   \n",
       "789  [[Energy(0.00268 Ha), Frequency(-271.8405 cm^-...   \n",
       "\n",
       "                                             e2_states  \n",
       "0                               [[0, 0, 'no rc made']]  \n",
       "1    [[Energy(0.00246 Ha), Frequency(-46.53485 cm^-...  \n",
       "2                               [[0, 0, 'no rc made']]  \n",
       "3    [[Energy(0.005 Ha), Frequency(-38.42143 cm^-1)...  \n",
       "4    [[Energy(0.00444 Ha), Frequency(-63.1352 cm^-1...  \n",
       "..                                                 ...  \n",
       "785  [[Energy(0.00032 Ha), 0, 'No imaginary frequen...  \n",
       "786  [[Energy(0.00095 Ha), Frequency(-90.79349 cm^-...  \n",
       "787  [[Energy(0.00145 Ha), Frequency(-177.3576 cm^-...  \n",
       "788  [[Energy(0.00195 Ha), Frequency(-197.02701 cm^...  \n",
       "789  [[Energy(0.00035 Ha), Frequency(-82.97289 cm^-...  \n",
       "\n",
       "[790 rows x 5 columns]"
      ]
     },
     "execution_count": 45,
     "metadata": {},
     "output_type": "execute_result"
    }
   ],
   "source": [
    "import pandas as pd\n",
    "import ast\n",
    "import numpy as np\n",
    "from sklearn.metrics import roc_auc_score\n",
    "\n",
    "df = pd.read_csv('test_2.csv')\n",
    "df"
   ]
  },
  {
   "cell_type": "code",
   "execution_count": 59,
   "id": "aa85dbb5",
   "metadata": {},
   "outputs": [],
   "source": [
    "def parse_list(s):\n",
    "    items = s.split(',')\n",
    "    items = [x.strip() for x in items]\n",
    "\n",
    "    tot_items = []\n",
    "    for item in items:\n",
    "        if item[0] == '[':\n",
    "            tot_items.append([])\n",
    "        tot_items[-1].append(item.strip('[]'))\n",
    "    \n",
    "    return tot_items\n",
    "\n",
    "def parse_energy(energy_string):\n",
    "    return float(energy_string.split('(')[-1].split(' ')[0])\n",
    "\n",
    "def parse_frequency(frequency_string):\n",
    "    return float(frequency_string.split('(')[-1].split(' ')[0])"
   ]
  },
  {
   "cell_type": "code",
   "execution_count": 62,
   "id": "e3f525d5",
   "metadata": {},
   "outputs": [
    {
     "data": {
      "text/plain": [
       "[['Energy(0.01092 Ha)', '0', \"'No imaginary frequencies'\"],\n",
       " ['Energy(0.01355 Ha)', '0', \"'No imaginary frequencies'\"],\n",
       " ['Energy(0.00129 Ha)', 'Frequency(-41.16208 cm^-1)', \"''\"],\n",
       " ['Energy(0.01092 Ha)', '0', \"'No imaginary frequencies'\"],\n",
       " ['Energy(0.01092 Ha)', 'Frequency(-55.5084 cm^-1)', \"''\"],\n",
       " ['Energy(0.00129 Ha)', 'Frequency(-26.0504 cm^-1)', \"''\"],\n",
       " ['Energy(0.01092 Ha)', '0', \"'No imaginary frequencies'\"]]"
      ]
     },
     "execution_count": 62,
     "metadata": {},
     "output_type": "execute_result"
    }
   ],
   "source": [
    "parse_list(df['sn2_states'].values[0])"
   ]
  },
  {
   "cell_type": "markdown",
   "id": "96d7a855",
   "metadata": {},
   "source": [
    "### Use all datapoints"
   ]
  },
  {
   "cell_type": "code",
   "execution_count": 51,
   "id": "8f24c8b4",
   "metadata": {},
   "outputs": [
    {
     "name": "stdout",
     "output_type": "stream",
     "text": [
      "585 790\n",
      "0.5164023827502308\n"
     ]
    }
   ],
   "source": [
    "def get_reaction_barriers(items, threshold = None):\n",
    "    barriers = []\n",
    "    for item in items:\n",
    "        if item[0] != '0':\n",
    "            barriers.append(parse_energy(item[0]))\n",
    "    return barriers\n",
    "\n",
    "suc = 0\n",
    "preds = []\n",
    "targets = []\n",
    "for idx in range(len(df)):\n",
    "    sn2_barriers = get_reaction_barriers(parse_list(df['sn2_states'].values[idx]))\n",
    "    e2_barriers = get_reaction_barriers(parse_list(df['e2_states'].values[idx]))\n",
    "    \n",
    "    if len(sn2_barriers) > 0 and len(e2_barriers) > 0:\n",
    "        suc += 1\n",
    "        targets.append(df['label'].values[idx] == 'sn2')\n",
    "        preds.append(np.mean(np.array(sn2_barriers)) < np.mean(np.array(e2_barriers)))\n",
    "        \n",
    "print(suc, len(df))\n",
    "print(roc_auc_score(targets, preds))"
   ]
  },
  {
   "cell_type": "markdown",
   "id": "61101858",
   "metadata": {},
   "source": [
    "### use only reactions with succesfull hessian calc with im frequencies"
   ]
  },
  {
   "cell_type": "code",
   "execution_count": 54,
   "id": "73434613",
   "metadata": {},
   "outputs": [
    {
     "name": "stdout",
     "output_type": "stream",
     "text": [
      "527 790\n",
      "0.5235874244902046\n"
     ]
    }
   ],
   "source": [
    "def get_reaction_barriers(items, threshold = None):\n",
    "    barriers = []\n",
    "    for item in items:\n",
    "        if item[-1] == \"''\":\n",
    "            barriers.append(parse_energy(item[0]))\n",
    "    return barriers\n",
    "\n",
    "suc = 0\n",
    "preds = []\n",
    "targets = []\n",
    "for idx in range(len(df)):\n",
    "    sn2_barriers = get_reaction_barriers(parse_list(df['sn2_states'].values[idx]))\n",
    "    e2_barriers = get_reaction_barriers(parse_list(df['e2_states'].values[idx]))\n",
    "    \n",
    "    if len(sn2_barriers) > 0 and len(e2_barriers) > 0:\n",
    "        suc += 1\n",
    "        targets.append(df['label'].values[idx] == 'sn2')\n",
    "        preds.append(np.mean(np.array(sn2_barriers)) < np.mean(np.array(e2_barriers)))\n",
    "        \n",
    "print(suc, len(df))\n",
    "print(roc_auc_score(targets, preds))"
   ]
  },
  {
   "cell_type": "markdown",
   "id": "b9050119",
   "metadata": {},
   "source": [
    "### use only reaction with TS's with very large imaginary frequencies"
   ]
  },
  {
   "cell_type": "code",
   "execution_count": 70,
   "id": "0d5ad29b",
   "metadata": {},
   "outputs": [
    {
     "name": "stdout",
     "output_type": "stream",
     "text": [
      "211 790\n",
      "0.4535147392290249\n"
     ]
    }
   ],
   "source": [
    "def get_reaction_barriers(items, threshold = None):\n",
    "    barriers = []\n",
    "    for item in items:\n",
    "        if item[-1] == \"''\" and parse_frequency(item[1]) < -80:\n",
    "            barriers.append(parse_energy(item[0]))\n",
    "    return barriers\n",
    "\n",
    "suc = 0\n",
    "preds = []\n",
    "targets = []\n",
    "for idx in range(len(df)):\n",
    "    sn2_barriers = get_reaction_barriers(parse_list(df['sn2_states'].values[idx]))\n",
    "    e2_barriers = get_reaction_barriers(parse_list(df['e2_states'].values[idx]))\n",
    "    \n",
    "    if len(sn2_barriers) > 0 and len(e2_barriers) > 0:\n",
    "        suc += 1\n",
    "        targets.append(df['label'].values[idx] == 'sn2')\n",
    "        preds.append(np.min(np.array(sn2_barriers)) < np.max(np.array(e2_barriers)))\n",
    "        \n",
    "print(suc, len(df))\n",
    "print(roc_auc_score(targets, preds))"
   ]
  },
  {
   "cell_type": "code",
   "execution_count": null,
   "id": "ce276ab6",
   "metadata": {},
   "outputs": [],
   "source": []
  }
 ],
 "metadata": {
  "kernelspec": {
   "display_name": "Python 3 (ipykernel)",
   "language": "python",
   "name": "python3"
  },
  "language_info": {
   "codemirror_mode": {
    "name": "ipython",
    "version": 3
   },
   "file_extension": ".py",
   "mimetype": "text/x-python",
   "name": "python",
   "nbconvert_exporter": "python",
   "pygments_lexer": "ipython3",
   "version": "3.8.16"
  }
 },
 "nbformat": 4,
 "nbformat_minor": 5
}

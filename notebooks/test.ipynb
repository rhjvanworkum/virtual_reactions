{
 "cells": [
  {
   "cell_type": "code",
   "execution_count": 33,
   "id": "de9f6946",
   "metadata": {},
   "outputs": [],
   "source": [
    "import rdkit\n",
    "import numpy as np\n",
    "from rdkit import Chem\n",
    "from rdkit.Chem.Descriptors import NumRadicalElectrons"
   ]
  },
  {
   "cell_type": "code",
   "execution_count": 34,
   "id": "6171c235",
   "metadata": {},
   "outputs": [
    {
     "data": {
      "image/png": "[encoded data removed]",
      "text/plain": [
       "<rdkit.Chem.rdchem.Mol at 0x7f167d223b30>"
      ]
     },
     "execution_count": 34,
     "metadata": {},
     "output_type": "execute_result"
    }
   ],
   "source": [
    "mol1 = Chem.MolFromSmiles('CC1C=CC(C)C(F)(F)C1C')\n",
    "mol1"
   ]
  },
  {
   "cell_type": "code",
   "execution_count": 35,
   "id": "cde2a6c0",
   "metadata": {},
   "outputs": [
    {
     "data": {
      "image/png": "[encoded data removed]",
      "text/plain": [
       "<rdkit.Chem.rdchem.Mol at 0x7f167d223d60>"
      ]
     },
     "execution_count": 35,
     "metadata": {},
     "output_type": "execute_result"
    }
   ],
   "source": [
    "mol2 = Chem.MolFromSmiles('CC1[CH][CH]C(C)C(F)(F)C1C')\n",
    "mol2"
   ]
  },
  {
   "cell_type": "code",
   "execution_count": 36,
   "id": "dea871cf",
   "metadata": {},
   "outputs": [
    {
     "data": {
      "text/plain": [
       "2"
      ]
     },
     "execution_count": 36,
     "metadata": {},
     "output_type": "execute_result"
    }
   ],
   "source": [
    "NumRadicalElectrons(mol2)"
   ]
  },
  {
   "cell_type": "code",
   "execution_count": 40,
   "id": "16bb51b2",
   "metadata": {},
   "outputs": [
    {
     "ename": "AssertionError",
     "evalue": "",
     "output_type": "error",
     "traceback": [
      "\u001b[0;31m---------------------------------------------------------------------------\u001b[0m",
      "\u001b[0;31mAssertionError\u001b[0m                            Traceback (most recent call last)",
      "Cell \u001b[0;32mIn [40], line 3\u001b[0m\n\u001b[1;32m      1\u001b[0m adj_mat1 \u001b[38;5;241m=\u001b[39m Chem\u001b[38;5;241m.\u001b[39mrdmolops\u001b[38;5;241m.\u001b[39mGetAdjacencyMatrix(mol1)\n\u001b[1;32m      2\u001b[0m adj_mat2 \u001b[38;5;241m=\u001b[39m Chem\u001b[38;5;241m.\u001b[39mrdmolops\u001b[38;5;241m.\u001b[39mGetAdjacencyMatrix(mol2)\n\u001b[0;32m----> 3\u001b[0m \u001b[38;5;28;01massert\u001b[39;00m np\u001b[38;5;241m.\u001b[39mtesting\u001b[38;5;241m.\u001b[39massert_equal(adj_mat1, adj_mat2)\n",
      "\u001b[0;31mAssertionError\u001b[0m: "
     ]
    }
   ],
   "source": [
    "adj_mat1 = Chem.rdmolops.GetAdjacencyMatrix(mol1)\n",
    "adj_mat2 = Chem.rdmolops.GetAdjacencyMatrix(mol2)\n",
    "np.testing.assert_equal(adj_mat1, adj_mat2)"
   ]
  },
  {
   "cell_type": "code",
   "execution_count": 31,
   "id": "1831c3b0",
   "metadata": {},
   "outputs": [
    {
     "data": {
      "text/plain": [
       "array([[0, 1, 0, 0, 0, 0, 0, 0, 0, 0, 0],\n",
       "       [1, 0, 1, 0, 0, 0, 0, 0, 0, 1, 0],\n",
       "       [0, 1, 0, 1, 0, 0, 0, 0, 0, 0, 0],\n",
       "       [0, 0, 1, 0, 1, 0, 0, 0, 0, 0, 0],\n",
       "       [0, 0, 0, 1, 0, 1, 1, 0, 0, 0, 0],\n",
       "       [0, 0, 0, 0, 1, 0, 0, 0, 0, 0, 0],\n",
       "       [0, 0, 0, 0, 1, 0, 0, 1, 1, 1, 0],\n",
       "       [0, 0, 0, 0, 0, 0, 1, 0, 0, 0, 0],\n",
       "       [0, 0, 0, 0, 0, 0, 1, 0, 0, 0, 0],\n",
       "       [0, 1, 0, 0, 0, 0, 1, 0, 0, 0, 1],\n",
       "       [0, 0, 0, 0, 0, 0, 0, 0, 0, 1, 0]], dtype=int32)"
      ]
     },
     "execution_count": 31,
     "metadata": {},
     "output_type": "execute_result"
    }
   ],
   "source": [
    "Chem.rdmolops.GetAdjacencyMatrix(mol1)"
   ]
  },
  {
   "cell_type": "code",
   "execution_count": null,
   "id": "4307485e",
   "metadata": {},
   "outputs": [],
   "source": []
  }
 ],
 "metadata": {
  "kernelspec": {
   "display_name": "Python 3 (ipykernel)",
   "language": "python",
   "name": "python3"
  },
  "language_info": {
   "codemirror_mode": {
    "name": "ipython",
    "version": 3
   },
   "file_extension": ".py",
   "mimetype": "text/x-python",
   "name": "python",
   "nbconvert_exporter": "python",
   "pygments_lexer": "ipython3",
   "version": "3.8.16"
  }
 },
 "nbformat": 4,
 "nbformat_minor": 5
}

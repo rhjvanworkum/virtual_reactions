{
 "cells": [
  {
   "cell_type": "code",
   "execution_count": 88,
   "id": "83468f59",
   "metadata": {},
   "outputs": [],
   "source": [
    "import pandas as pd\n",
    "import os\n",
    "from rxnmapper import RXNMapper\n",
    "import numpy as np\n",
    "\n",
    "from rdkit import Chem\n",
    "from rdkit.Chem import AllChem"
   ]
  },
  {
   "cell_type": "code",
   "execution_count": 89,
   "id": "04784c19",
   "metadata": {},
   "outputs": [
    {
     "name": "stdout",
     "output_type": "stream",
     "text": [
      "29261\n"
     ]
    }
   ],
   "source": [
    "path = '/home/ruard/Documents/datasets/DA_reaxys_export/'\n",
    "dfs = []\n",
    "for name in ['DA_1.tsv', 'DA_2.tsv', 'DA_3.tsv', 'DA_4.tsv']:\n",
    "    dfs.append(pd.read_csv(os.path.join(path, name), sep='\\t'))\n",
    "    \n",
    "df = pd.concat(dfs)\n",
    "print(len(df))"
   ]
  },
  {
   "cell_type": "code",
   "execution_count": 90,
   "id": "8a7816bd",
   "metadata": {},
   "outputs": [],
   "source": [
    "da_rxn_smarts = AllChem.ReactionFromSmarts(\n",
    "    '[#6:1]=[#6:2].[#6:3]=[#6:4][#6:5]=[#6:6]>>[#6:1]1[#6:2][#6:3][#6:4]=[#6:5][#6:6]1'\n",
    ")\n",
    "\n",
    "# diene_smarts = Chem.MolFromSmarts('[C,c,N,n,O]=[C,c,N,n][C,c,N,n]=[C,c,N,n,O]')\n",
    "# dienophile_smarts = Chem.MolFromSmarts('[C,c,N,n]=[C,c,N,n]')\n",
    "diene_smarts = Chem.MolFromSmarts('[C,c]=[C,c][C,c]=[C,c]')\n",
    "dienophile_smarts = Chem.MolFromSmarts('[C,c]=[C,c]')\n",
    "\n",
    "def simulate_da_reaction(substrates):\n",
    "    products = []\n",
    "    products += da_rxn_smarts.RunReactants(substrates)\n",
    "    substrates = [substrates[1], substrates[0]]\n",
    "    products += da_rxn_smarts.RunReactants(substrates)\n",
    "    \n",
    "    products = [Chem.MolToSmiles(product[0]) for product in products]\n",
    "    products = list(set(products))\n",
    "    return [Chem.MolFromSmiles(product) for product in products]"
   ]
  },
  {
   "cell_type": "code",
   "execution_count": 91,
   "id": "308c457b",
   "metadata": {},
   "outputs": [
    {
     "name": "stdout",
     "output_type": "stream",
     "text": [
      "29241\n",
      "28349\n",
      "6519\n",
      "4467\n"
     ]
    }
   ],
   "source": [
    "# no multistep reactions\n",
    "df = df[df['Multi-step Details'].isnull()]\n",
    "print(len(df))\n",
    "\n",
    "# no NaN reactions \n",
    "df = df[~df['Reaction'].isna()]\n",
    "print(len(df))\n",
    "\n",
    "# only bimolecular reactions involving dienes and dienophiles \n",
    "filtered_reaction_ids = []\n",
    "for reaction, reaction_id in zip(df['Reaction'].values, df['Reaction ID'].values):\n",
    "    reactants, products = reaction.split('>>')\n",
    "    if len(reactants.split('.')) == 2 and len(products.split('.')) == 1: \n",
    "        reactant1, reactant2 = reactants.split('.')\n",
    "        reactant1 = Chem.MolFromSmiles(reactant1)\n",
    "        reactant2 = Chem.MolFromSmiles(reactant2)\n",
    "        \n",
    "        if None not in [reactant1, reactant2]:\n",
    "            da_products = simulate_da_reaction([reactant1, reactant2])\n",
    "            if len(da_products) > 0: \n",
    "                filtered_reaction_ids.append(reaction_id)\n",
    "        \n",
    "df = df[df['Reaction ID'].isin(filtered_reaction_ids)]\n",
    "print(len(df))\n",
    "\n",
    "# no duplicate reaction smiles\n",
    "df = df.drop_duplicates(subset=['Reaction'])\n",
    "print(len(df))"
   ]
  },
  {
   "cell_type": "code",
   "execution_count": 92,
   "id": "f2d44438",
   "metadata": {},
   "outputs": [],
   "source": [
    "df.to_csv('/home/ruard/Documents/datasets/DA_reaxys_export/DA_raw.csv')"
   ]
  },
  {
   "cell_type": "markdown",
   "id": "4cbc1c50",
   "metadata": {},
   "source": [
    "## Regioselectivity filter"
   ]
  },
  {
   "cell_type": "code",
   "execution_count": 99,
   "id": "3f96d60d",
   "metadata": {},
   "outputs": [],
   "source": [
    "df = pd.read_csv('/home/ruard/Documents/datasets/DA_reaxys_export/DA_raw.csv')"
   ]
  },
  {
   "cell_type": "code",
   "execution_count": 100,
   "id": "e0c76e67",
   "metadata": {},
   "outputs": [
    {
     "name": "stdout",
     "output_type": "stream",
     "text": [
      "4467\n",
      "4175\n",
      "1691\n"
     ]
    }
   ],
   "source": [
    "# first let's remove stereochemistry to avoid having stereoisomer duplicates\n",
    "reaction_smiles_list = df['Reaction'].values\n",
    "\n",
    "def normalize_mol(mol):\n",
    "    return Chem.MolFromSmiles(Chem.MolToSmiles(mol))\n",
    "\n",
    "new_reaction_smiles_list = []\n",
    "\n",
    "for reaction_smiles in reaction_smiles_list:\n",
    "    reactants, product = reaction_smiles.split('>>')\n",
    "    reactant1, reactant2 = reactants.split('.')\n",
    "    reactant1 = Chem.MolFromSmiles(reactant1)\n",
    "    reactant2 = Chem.MolFromSmiles(reactant2)\n",
    "    product = Chem.MolFromSmiles(product)\n",
    "    \n",
    "    if None not in [reactant1, reactant2, product]:\n",
    "        Chem.RemoveStereochemistry(reactant1)\n",
    "        Chem.RemoveStereochemistry(reactant2)\n",
    "        Chem.RemoveStereochemistry(product)\n",
    "\n",
    "        new_smiles = f'{Chem.MolToSmiles(reactant1)}.{Chem.MolToSmiles(reactant2)}>>{Chem.MolToSmiles(product)}'\n",
    "        new_reaction_smiles_list.append(new_smiles)\n",
    "\n",
    "print(len(new_reaction_smiles_list))\n",
    "new_reaction_smiles_list = list(set(new_reaction_smiles_list))\n",
    "print(len(new_reaction_smiles_list))\n",
    "\n",
    "# now we have to figure out if both motifs are symmetrically substituted\n",
    "new_new_reaction_smiles_list = []\n",
    "for item in new_reaction_smiles_list:\n",
    "    reactant1, reactant2 = item.split('>>')[0].split('.')\n",
    "    reactant1 = Chem.MolFromSmiles(reactant1)\n",
    "    reactant2 = Chem.MolFromSmiles(reactant2)\n",
    "    reactants = [reactant1, reactant2]\n",
    "    output = simulate_da_reaction(reactants)\n",
    "    if len(output) >= 2:\n",
    "        output = [Chem.MolToSmiles(normalize_mol(mol)) for mol in output]\n",
    "        if len(set(output)) >= 2:\n",
    "            new_new_reaction_smiles_list.append(item)\n",
    "            \n",
    "print(len(new_new_reaction_smiles_list))"
   ]
  },
  {
   "cell_type": "code",
   "execution_count": 101,
   "id": "5c441c5a",
   "metadata": {},
   "outputs": [],
   "source": [
    "reaction_idx = []\n",
    "substrates = []\n",
    "products = []\n",
    "reaction_smiles_list = []\n",
    "labels = []\n",
    "\n",
    "for idx, regio_reaction in enumerate(new_new_reaction_smiles_list):\n",
    "    reactants, product = regio_reaction.split('>>')\n",
    "    reactant1_smiles, reactant2_smiles = reactants.split('.')\n",
    "    \n",
    "    reactant1 = Chem.MolFromSmiles(reactant1_smiles)\n",
    "    reactant2 = Chem.MolFromSmiles(reactant2_smiles)\n",
    "    product = Chem.MolFromSmiles(product)\n",
    "    reactants = [reactant1, reactant2]\n",
    "    output = simulate_da_reaction(reactants)\n",
    "    \n",
    "    product_smiles = Chem.MolToSmiles(normalize_mol(product))\n",
    "    output = [Chem.MolToSmiles(normalize_mol(mol)) for mol in output]\n",
    "    \n",
    "    matches = sum([mol == product_smiles for mol in output])\n",
    "    if matches == 1 and product.GetNumHeavyAtoms() < 25:\n",
    "        for mol in output:\n",
    "            reaction_smiles = f\"{reactant1_smiles}.{reactant2_smiles}>>{mol}\"\n",
    "            substrates.append(f\"{reactant1_smiles}.{reactant2_smiles}\")\n",
    "            products.append(mol)\n",
    "            reaction_smiles_list.append(reaction_smiles)\n",
    "            reaction_idx.append(idx)\n",
    "            if mol == product_smiles:\n",
    "                labels.append(1)\n",
    "            else:\n",
    "                labels.append(0)   \n",
    "    \n",
    "df = pd.DataFrame({\n",
    "    'reaction_idx': reaction_idx,\n",
    "    'uid': np.arange(len(reaction_idx)),\n",
    "    'substrates': substrates,\n",
    "    'products': products,\n",
    "    'reaction_smiles': reaction_smiles_list,\n",
    "    'labels': labels,\n",
    "    'simulation_idx': np.zeros(len(reaction_idx))\n",
    "})    \n",
    "    \n",
    "df.to_csv('/home/ruard/Documents/datasets/DA_reaxys_export/DA_regio_dataset_v1.csv')"
   ]
  },
  {
   "cell_type": "code",
   "execution_count": 95,
   "id": "c460a00b",
   "metadata": {},
   "outputs": [],
   "source": []
  },
  {
   "cell_type": "code",
   "execution_count": null,
   "id": "f83a1b2a",
   "metadata": {},
   "outputs": [],
   "source": []
  }
 ],
 "metadata": {
  "kernelspec": {
   "display_name": "Python 3 (ipykernel)",
   "language": "python",
   "name": "python3"
  },
  "language_info": {
   "codemirror_mode": {
    "name": "ipython",
    "version": 3
   },
   "file_extension": ".py",
   "mimetype": "text/x-python",
   "name": "python",
   "nbconvert_exporter": "python",
   "pygments_lexer": "ipython3",
   "version": "3.8.16"
  }
 },
 "nbformat": 4,
 "nbformat_minor": 5
}

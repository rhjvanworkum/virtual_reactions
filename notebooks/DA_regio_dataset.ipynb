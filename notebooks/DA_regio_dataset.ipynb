{
 "cells": [
  {
   "cell_type": "code",
   "execution_count": 3,
   "id": "83468f59",
   "metadata": {},
   "outputs": [
    {
     "name": "stderr",
     "output_type": "stream",
     "text": [
      "numexpr.utils: INFO     Note: detected 256 virtual cores but NumExpr set to maximum of 64, check \"NUMEXPR_MAX_THREADS\" environment variable.\n",
      "numexpr.utils: INFO     Note: NumExpr detected 256 cores but \"NUMEXPR_MAX_THREADS\" not set, so enforcing safe limit of 8.\n"
     ]
    }
   ],
   "source": [
    "import pandas as pd\n",
    "import os\n",
    "from rxnmapper import RXNMapper\n",
    "import numpy as np\n",
    "\n",
    "from rdkit import Chem\n",
    "from rdkit.Chem import AllChem"
   ]
  },
  {
   "cell_type": "code",
   "execution_count": 2,
   "id": "04784c19",
   "metadata": {},
   "outputs": [
    {
     "name": "stdout",
     "output_type": "stream",
     "text": [
      "29261\n"
     ]
    },
    {
     "data": {
      "text/plain": [
       "Index(['Reaction ID', 'Reaction: Links to Reaxys', 'Data Count',\n",
       "       'Number of Reaction Details', 'Reaction Rank', 'Record Type',\n",
       "       'Reactant', 'Product', 'Bin', 'Reaction',\n",
       "       'Reaction Details: Reaction Classification', 'Example label',\n",
       "       'Example title', 'Fulltext of reaction', 'Number of Reaction Steps',\n",
       "       'Multi-step Scheme', 'Multi-step Details', 'Number of Stages',\n",
       "       'Solid Phase', 'Time (Reaction Details) [h]',\n",
       "       'Temperature (Reaction Details) [C]',\n",
       "       'Pressure (Reaction Details) [Torr]', 'pH-Value (Reaction Details)',\n",
       "       'Other Conditions', 'Reaction Type', 'Subject Studied',\n",
       "       'Prototype Reaction', 'Named Reaction',\n",
       "       'Type of reaction description (Reaction Details)', 'Location',\n",
       "       'Comment (Reaction Details)', 'Product.1', 'Yield', 'Yield (numerical)',\n",
       "       'Yield (optical)', 'Stage Reactant', 'Reagent', 'Catalyst',\n",
       "       'Solvent (Reaction Details)', 'References', 'Links to Reaxys',\n",
       "       'Unnamed: 41'],\n",
       "      dtype='object')"
      ]
     },
     "execution_count": 2,
     "metadata": {},
     "output_type": "execute_result"
    }
   ],
   "source": [
    "path = '/home/ruard/Documents/datasets/DA_reaxys_export/'\n",
    "dfs = []\n",
    "for name in ['DA_1.tsv', 'DA_2.tsv', 'DA_3.tsv', 'DA_4.tsv']:\n",
    "    dfs.append(pd.read_csv(os.path.join(path, name), sep='\\t'))\n",
    "    \n",
    "df = pd.concat(dfs)\n",
    "print(len(df))\n",
    "\n",
    "df.columns"
   ]
  },
  {
   "cell_type": "code",
   "execution_count": 3,
   "id": "8a7816bd",
   "metadata": {},
   "outputs": [
    {
     "data": {
      "text/plain": [
       "'C1=CCCCC1'"
      ]
     },
     "execution_count": 3,
     "metadata": {},
     "output_type": "execute_result"
    }
   ],
   "source": [
    "da_rxn_smarts = AllChem.ReactionFromSmarts(\n",
    "    '[#6:1]=[#6:2].[#6:3]=[#6:4][#6:5]=[#6:6]>>[#6:1]1[#6:2][#6:3][#6:4]=[#6:5][#6:6]1'\n",
    ")\n",
    "\n",
    "# diene_smarts = Chem.MolFromSmarts('[C,c,N,n,O]=[C,c,N,n][C,c,N,n]=[C,c,N,n,O]')\n",
    "# dienophile_smarts = Chem.MolFromSmarts('[C,c,N,n]=[C,c,N,n]')\n",
    "diene_smarts = Chem.MolFromSmarts('[C,c]=[C,c][C,c]=[C,c]')\n",
    "dienophile_smarts = Chem.MolFromSmarts('[C,c]=[C,c]')\n",
    "\n",
    "def simulate_da_reaction(substrates):\n",
    "    products = []\n",
    "    products += da_rxn_smarts.RunReactants(substrates)\n",
    "    substrates = [substrates[1], substrates[0]]\n",
    "    products += da_rxn_smarts.RunReactants(substrates)\n",
    "    \n",
    "    products = [Chem.MolToSmiles(product[0]) for product in products]\n",
    "    products = list(set(products))\n",
    "    return [Chem.MolFromSmiles(product) for product in products]\n",
    "\n",
    "products = simulate_da_reaction([Chem.MolFromSmiles(smi) for smi in [\"C=C\", \"C=CC=C\"]])\n",
    "Chem.MolToSmiles(products[0])"
   ]
  },
  {
   "cell_type": "code",
   "execution_count": 4,
   "id": "308c457b",
   "metadata": {},
   "outputs": [
    {
     "name": "stdout",
     "output_type": "stream",
     "text": [
      "29241\n",
      "28349\n",
      "6519\n",
      "4467\n"
     ]
    }
   ],
   "source": [
    "# no multistep reactions\n",
    "df = df[df['Multi-step Details'].isnull()]\n",
    "print(len(df))\n",
    "\n",
    "# no NaN reactions \n",
    "df = df[~df['Reaction'].isna()]\n",
    "print(len(df))\n",
    "\n",
    "# only bimolecular reactions involving dienes and dienophiles \n",
    "filtered_reaction_ids = []\n",
    "for reaction, reaction_id in zip(df['Reaction'].values, df['Reaction ID'].values):\n",
    "    reactants, products = reaction.split('>>')\n",
    "    if len(reactants.split('.')) == 2 and len(products.split('.')) == 1: \n",
    "        reactant1, reactant2 = reactants.split('.')\n",
    "        reactant1 = Chem.MolFromSmiles(reactant1)\n",
    "        reactant2 = Chem.MolFromSmiles(reactant2)\n",
    "        product = Chem.MolFromSmiles(products)\n",
    "        \n",
    "        if None not in [reactant1, reactant2, product]:\n",
    "            da_products = simulate_da_reaction([reactant1, reactant2])\n",
    "            if len(da_products) > 0: \n",
    "                filtered_reaction_ids.append(reaction_id)\n",
    "        \n",
    "df = df[df['Reaction ID'].isin(filtered_reaction_ids)]\n",
    "print(len(df))\n",
    "\n",
    "# no duplicate reaction smiles\n",
    "df = df.drop_duplicates(subset=['Reaction'])\n",
    "print(len(df))"
   ]
  },
  {
   "cell_type": "code",
   "execution_count": 5,
   "id": "f2d44438",
   "metadata": {},
   "outputs": [],
   "source": [
    "df.to_csv('/home/ruard/Documents/datasets/DA_reaxys_export/DA_raw.csv')"
   ]
  },
  {
   "cell_type": "markdown",
   "id": "4cbc1c50",
   "metadata": {},
   "source": [
    "## Regioselectivity filter"
   ]
  },
  {
   "cell_type": "code",
   "execution_count": 1,
   "id": "3f96d60d",
   "metadata": {},
   "outputs": [
    {
     "ename": "NameError",
     "evalue": "name 'pd' is not defined",
     "output_type": "error",
     "traceback": [
      "\u001b[0;31m---------------------------------------------------------------------------\u001b[0m",
      "\u001b[0;31mNameError\u001b[0m                                 Traceback (most recent call last)",
      "Cell \u001b[0;32mIn[1], line 1\u001b[0m\n\u001b[0;32m----> 1\u001b[0m df \u001b[38;5;241m=\u001b[39m \u001b[43mpd\u001b[49m\u001b[38;5;241m.\u001b[39mread_csv(\u001b[38;5;124m'\u001b[39m\u001b[38;5;124m/home/ruard/Documents/datasets/DA_reaxys_export/DA_raw.csv\u001b[39m\u001b[38;5;124m'\u001b[39m)\n",
      "\u001b[0;31mNameError\u001b[0m: name 'pd' is not defined"
     ]
    }
   ],
   "source": [
    "df = pd.read_csv('/home/ruard/Documents/datasets/DA_reaxys_export/DA_raw.csv')"
   ]
  },
  {
   "cell_type": "code",
   "execution_count": 2,
   "id": "5a7c269b",
   "metadata": {},
   "outputs": [
    {
     "name": "stderr",
     "output_type": "stream",
     "text": [
      "rdkit       : INFO     Enabling RDKit 2022.09.5 jupyter extensions\n"
     ]
    }
   ],
   "source": [
    "from autode.solvent.solvents import solvents\n",
    "SOLVENTS = solvents\n",
    "\n",
    "def normalize_mol(mol):\n",
    "    return Chem.MolFromSmiles(Chem.MolToSmiles(mol))\n",
    "\n",
    "def get_mols_from_reaction_smiles(reaction_smiles):\n",
    "    reactants, product = reaction_smiles.split('>>')\n",
    "    reactant1, reactant2 = reactants.split('.')\n",
    "    reactant1 = Chem.MolFromSmiles(reactant1)\n",
    "    reactant2 = Chem.MolFromSmiles(reactant2)\n",
    "    product = Chem.MolFromSmiles(product)\n",
    "    \n",
    "    return (reactant1, reactant2), product\n",
    "\n",
    "\n",
    "def check_if_solvent_available(solvent_string, program):\n",
    "    # NaN solvent\n",
    "    if type(solvent_string) is float:\n",
    "        return False\n",
    "    \n",
    "    # parse list of provided solvents\n",
    "    if ';' in solvent_string:\n",
    "        solvent_strings = solvent_string.split(';')\n",
    "    else:\n",
    "        solvent_strings = [solvent_string]\n",
    "    \n",
    "    # check for each solvent if they're available\n",
    "    for string in solvent_strings:\n",
    "        for solvent in SOLVENTS:\n",
    "            if solvent_string in solvent.aliases:\n",
    "                if hasattr(solvent, program):\n",
    "                    return True\n",
    "    \n",
    "    return False\n",
    "\n",
    "\n",
    "def get_solvent(solvent_string, program):\n",
    "    for solvent in SOLVENTS:\n",
    "        if solvent_string in solvent.aliases:\n",
    "            return getattr(solvent, program)"
   ]
  },
  {
   "cell_type": "code",
   "execution_count": 8,
   "id": "e0c76e67",
   "metadata": {},
   "outputs": [
    {
     "name": "stdout",
     "output_type": "stream",
     "text": [
      "4467\n",
      "4175\n"
     ]
    }
   ],
   "source": [
    "# first let's remove stereochemistry to avoid having stereoisomer duplicates\n",
    "reaction_smiles_nostereo = []\n",
    "for reaction_smiles in df['Reaction'].values:\n",
    "    reactants, product = get_mols_from_reaction_smiles(reaction_smiles)\n",
    "    for reactant in reactants:\n",
    "        Chem.RemoveStereochemistry(reactant)\n",
    "    Chem.RemoveStereochemistry(product)\n",
    "    reaction_smiles_nostereo.append(\n",
    "        f'{Chem.MolToSmiles(reactants[0])}.{Chem.MolToSmiles(reactants[1])}>>{Chem.MolToSmiles(product)}'\n",
    "    )\n",
    "    \n",
    "df['Reaction'] = reaction_smiles_nostereo\n",
    "\n",
    "print(len(df))\n",
    "df = df.drop_duplicates(subset=['Reaction'])\n",
    "print(len(df))"
   ]
  },
  {
   "cell_type": "code",
   "execution_count": 9,
   "id": "a6196692",
   "metadata": {},
   "outputs": [
    {
     "name": "stdout",
     "output_type": "stream",
     "text": [
      "1691\n"
     ]
    }
   ],
   "source": [
    "# now we have to figure out if both motifs are symmetrically substituted\n",
    "filtered_reaction_ids = []\n",
    "for reaction_smiles, reaction_id in zip(df['Reaction'].values, df['Reaction ID'].values):\n",
    "    reactants, product = get_mols_from_reaction_smiles(reaction_smiles)\n",
    "    da_products = simulate_da_reaction(reactants)\n",
    "    if len(da_products) >= 2: \n",
    "        filtered_reaction_ids.append(reaction_id)\n",
    "        \n",
    "df = df[df['Reaction ID'].isin(filtered_reaction_ids)]\n",
    "print(len(df))"
   ]
  },
  {
   "cell_type": "code",
   "execution_count": 10,
   "id": "8202e948",
   "metadata": {},
   "outputs": [],
   "source": [
    "# # filter reactions on their yield\n",
    "# filtered_reaction_ids = []\n",
    "# for chem_yield, reaction_id in zip(df['Yield (numerical)'].values, df['Reaction ID'].values):\n",
    "#     if str(chem_yield) != 'nan':\n",
    "#         try:\n",
    "#             chem_yield = float(chem_yield)\n",
    "#         except:\n",
    "#             chem_yield = float(chem_yield.split(';')[0])\n",
    "\n",
    "#         if chem_yield >= 50:\n",
    "#             filtered_reaction_ids.append(reaction_id)\n",
    "        \n",
    "# df = df[df['Reaction ID'].isin(filtered_reaction_ids)]\n",
    "# print(len(df))"
   ]
  },
  {
   "cell_type": "code",
   "execution_count": 12,
   "id": "5c441c5a",
   "metadata": {},
   "outputs": [
    {
     "name": "stdout",
     "output_type": "stream",
     "text": [
      "735 340\n"
     ]
    }
   ],
   "source": [
    "# create Dataset here\n",
    "max_n_heavy_atoms = 25\n",
    "program = 'orca'\n",
    "add_solvent = True\n",
    "save_path = \"/home/ruard/code/virtual_reactions/data/datasets/da//DA_regio_orca_solvent.csv\"\n",
    "\n",
    "\n",
    "reaction_idx = []\n",
    "substrates = []\n",
    "products = []\n",
    "solvents = []\n",
    "reaction_smiles_list = []\n",
    "labels = []\n",
    "\n",
    "for idx, row in df.iterrows():\n",
    "    solvent = row['Solvent (Reaction Details)']\n",
    "    reactants, product = get_mols_from_reaction_smiles(row['Reaction'])\n",
    "    da_products = simulate_da_reaction(reactants)\n",
    "    \n",
    "    product_smiles = Chem.MolToSmiles(normalize_mol(product))\n",
    "    da_products = [Chem.MolToSmiles(normalize_mol(mol)) for mol in da_products]\n",
    "    \n",
    "    matches = sum([mol == product_smiles for mol in da_products])\n",
    "    \n",
    "    # check 1) \"real\" product mol is among simulated products\n",
    "    #       2)  product is not larger than specified size\n",
    "    #       3) solvent is available\n",
    "    if matches == 1 and product.GetNumHeavyAtoms() < max_n_heavy_atoms:\n",
    "        if (add_solvent and check_if_solvent_available(solvent, program)) or (not add_solvent):\n",
    "            \n",
    "            # TODO: remove this - manually filter out site-selective one\n",
    "            if len(da_products) <= 4:\n",
    "                for mol in da_products:\n",
    "                    reactant1_smiles, reactant2_smiles = row['Reaction'].split('>>')[0].split('.')\n",
    "                    reaction_smiles = f\"{reactant1_smiles}.{reactant2_smiles}>>{mol}\"\n",
    "                    substrates.append(f\"{reactant1_smiles}.{reactant2_smiles}\")\n",
    "                    products.append(mol)\n",
    "\n",
    "                    if add_solvent:\n",
    "                        solvents.append(get_solvent(solvent, program))\n",
    "                    else:\n",
    "                        solvents.append(None)\n",
    "\n",
    "                    reaction_smiles_list.append(reaction_smiles)\n",
    "                    reaction_idx.append(idx)\n",
    "                    if mol == product_smiles:\n",
    "                        labels.append(1)\n",
    "                    else:\n",
    "                        labels.append(0)   \n",
    "    \n",
    "print(len(reaction_idx), len(set(reaction_idx)))    \n",
    "    \n",
    "dataset = pd.DataFrame({\n",
    "    'reaction_idx': reaction_idx,\n",
    "    'uid': np.arange(len(reaction_idx)),\n",
    "    'substrates': substrates,\n",
    "    'products': products,\n",
    "    'solvent': solvents,\n",
    "    'reaction_smiles': reaction_smiles_list,\n",
    "    'label': labels,\n",
    "    'simulation_idx': np.zeros(len(reaction_idx))\n",
    "})   \n",
    "dataset\n",
    "    \n",
    "dataset.to_csv(save_path)"
   ]
  },
  {
   "cell_type": "code",
   "execution_count": 38,
   "id": "03127a01",
   "metadata": {},
   "outputs": [
    {
     "name": "stdout",
     "output_type": "stream",
     "text": [
      "104 735\n"
     ]
    }
   ],
   "source": [
    "amine_edg_smarts = Chem.MolFromSmarts('C1=CC(C2)CCC12')\n",
    "\n",
    "i = 0\n",
    "products = dataset['products'].values\n",
    "products = [Chem.MolFromSmiles(p) for p in products]\n",
    "for idx, p in enumerate(products):\n",
    "    if len(p.GetSubstructMatches(amine_edg_smarts)) >= 1:\n",
    "        i += 1\n",
    "\n",
    "print(i, len(products))"
   ]
  },
  {
   "cell_type": "code",
   "execution_count": null,
   "id": "e5199f43",
   "metadata": {},
   "outputs": [],
   "source": []
  }
 ],
 "metadata": {
  "kernelspec": {
   "display_name": "Python 3 (ipykernel)",
   "language": "python",
   "name": "python3"
  },
  "language_info": {
   "codemirror_mode": {
    "name": "ipython",
    "version": 3
   },
   "file_extension": ".py",
   "mimetype": "text/x-python",
   "name": "python",
   "nbconvert_exporter": "python",
   "pygments_lexer": "ipython3",
   "version": "3.8.16"
  }
 },
 "nbformat": 4,
 "nbformat_minor": 5
}
